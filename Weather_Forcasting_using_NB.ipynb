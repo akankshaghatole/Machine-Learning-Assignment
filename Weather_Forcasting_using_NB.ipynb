{
  "nbformat": 4,
  "nbformat_minor": 0,
  "metadata": {
    "colab": {
      "name": "Weather Forcasting using NB.ipynb",
      "provenance": [],
      "collapsed_sections": []
    },
    "kernelspec": {
      "name": "python3",
      "display_name": "Python 3"
    }
  },
  "cells": [
    {
      "cell_type": "markdown",
      "metadata": {
        "id": "SBZuznqxVTxY"
      },
      "source": [
        "**Machine Learning Lab Assignment 2 : Weather Forcasting**\r\n"
      ]
    },
    {
      "cell_type": "markdown",
      "metadata": {
        "id": "FFa65dfOWB6y"
      },
      "source": [
        "**Name : Akanksha Ghatole**\r\n"
      ]
    },
    {
      "cell_type": "markdown",
      "metadata": {
        "id": "WIuQdWnoWJV-"
      },
      "source": [
        "**Roll no : 033 PRN : 0120180196 SeatNO : T204033**"
      ]
    },
    {
      "cell_type": "code",
      "metadata": {
        "id": "s-hj7oQUwQ5V"
      },
      "source": [
        "import pandas as pd \r\n",
        "import numpy as np\r\n",
        "dataset = pd.read_csv('new_dataset.csv')"
      ],
      "execution_count": 56,
      "outputs": []
    },
    {
      "cell_type": "code",
      "metadata": {
        "colab": {
          "base_uri": "https://localhost:8080/",
          "height": 462
        },
        "id": "L09wlgHIw4L3",
        "outputId": "00a27498-2fba-4961-e0ca-f7c64f9a6d8b"
      },
      "source": [
        "dataset"
      ],
      "execution_count": 57,
      "outputs": [
        {
          "output_type": "execute_result",
          "data": {
            "text/html": [
              "<div>\n",
              "<style scoped>\n",
              "    .dataframe tbody tr th:only-of-type {\n",
              "        vertical-align: middle;\n",
              "    }\n",
              "\n",
              "    .dataframe tbody tr th {\n",
              "        vertical-align: top;\n",
              "    }\n",
              "\n",
              "    .dataframe thead th {\n",
              "        text-align: right;\n",
              "    }\n",
              "</style>\n",
              "<table border=\"1\" class=\"dataframe\">\n",
              "  <thead>\n",
              "    <tr style=\"text-align: right;\">\n",
              "      <th></th>\n",
              "      <th>Outlook</th>\n",
              "      <th>Temp</th>\n",
              "      <th>Humidity</th>\n",
              "      <th>Windy</th>\n",
              "      <th>Play</th>\n",
              "    </tr>\n",
              "  </thead>\n",
              "  <tbody>\n",
              "    <tr>\n",
              "      <th>0</th>\n",
              "      <td>Rainy</td>\n",
              "      <td>Hot</td>\n",
              "      <td>High</td>\n",
              "      <td>f</td>\n",
              "      <td>no</td>\n",
              "    </tr>\n",
              "    <tr>\n",
              "      <th>1</th>\n",
              "      <td>Rainy</td>\n",
              "      <td>Hot</td>\n",
              "      <td>High</td>\n",
              "      <td>t</td>\n",
              "      <td>no</td>\n",
              "    </tr>\n",
              "    <tr>\n",
              "      <th>2</th>\n",
              "      <td>Overcast</td>\n",
              "      <td>Hot</td>\n",
              "      <td>High</td>\n",
              "      <td>f</td>\n",
              "      <td>yes</td>\n",
              "    </tr>\n",
              "    <tr>\n",
              "      <th>3</th>\n",
              "      <td>Sunny</td>\n",
              "      <td>Mild</td>\n",
              "      <td>High</td>\n",
              "      <td>f</td>\n",
              "      <td>yes</td>\n",
              "    </tr>\n",
              "    <tr>\n",
              "      <th>4</th>\n",
              "      <td>Sunny</td>\n",
              "      <td>Cool</td>\n",
              "      <td>Normal</td>\n",
              "      <td>f</td>\n",
              "      <td>yes</td>\n",
              "    </tr>\n",
              "    <tr>\n",
              "      <th>5</th>\n",
              "      <td>Sunny</td>\n",
              "      <td>Cool</td>\n",
              "      <td>Normal</td>\n",
              "      <td>t</td>\n",
              "      <td>no</td>\n",
              "    </tr>\n",
              "    <tr>\n",
              "      <th>6</th>\n",
              "      <td>Overcast</td>\n",
              "      <td>Cool</td>\n",
              "      <td>Normal</td>\n",
              "      <td>t</td>\n",
              "      <td>yes</td>\n",
              "    </tr>\n",
              "    <tr>\n",
              "      <th>7</th>\n",
              "      <td>Rainy</td>\n",
              "      <td>Mild</td>\n",
              "      <td>High</td>\n",
              "      <td>f</td>\n",
              "      <td>no</td>\n",
              "    </tr>\n",
              "    <tr>\n",
              "      <th>8</th>\n",
              "      <td>Rainy</td>\n",
              "      <td>Cool</td>\n",
              "      <td>Normal</td>\n",
              "      <td>f</td>\n",
              "      <td>yes</td>\n",
              "    </tr>\n",
              "    <tr>\n",
              "      <th>9</th>\n",
              "      <td>Sunny</td>\n",
              "      <td>Mild</td>\n",
              "      <td>Normal</td>\n",
              "      <td>f</td>\n",
              "      <td>yes</td>\n",
              "    </tr>\n",
              "    <tr>\n",
              "      <th>10</th>\n",
              "      <td>Rainy</td>\n",
              "      <td>Mild</td>\n",
              "      <td>Normal</td>\n",
              "      <td>t</td>\n",
              "      <td>yes</td>\n",
              "    </tr>\n",
              "    <tr>\n",
              "      <th>11</th>\n",
              "      <td>Overcast</td>\n",
              "      <td>Mild</td>\n",
              "      <td>High</td>\n",
              "      <td>t</td>\n",
              "      <td>yes</td>\n",
              "    </tr>\n",
              "    <tr>\n",
              "      <th>12</th>\n",
              "      <td>Overcast</td>\n",
              "      <td>Hot</td>\n",
              "      <td>Normal</td>\n",
              "      <td>f</td>\n",
              "      <td>yes</td>\n",
              "    </tr>\n",
              "    <tr>\n",
              "      <th>13</th>\n",
              "      <td>Sunny</td>\n",
              "      <td>Mild</td>\n",
              "      <td>High</td>\n",
              "      <td>t</td>\n",
              "      <td>no</td>\n",
              "    </tr>\n",
              "  </tbody>\n",
              "</table>\n",
              "</div>"
            ],
            "text/plain": [
              "     Outlook  Temp Humidity Windy Play\n",
              "0      Rainy   Hot     High     f   no\n",
              "1      Rainy   Hot     High     t   no\n",
              "2   Overcast   Hot     High     f  yes\n",
              "3      Sunny  Mild     High     f  yes\n",
              "4      Sunny  Cool   Normal     f  yes\n",
              "5      Sunny  Cool   Normal     t   no\n",
              "6   Overcast  Cool   Normal     t  yes\n",
              "7      Rainy  Mild     High     f   no\n",
              "8      Rainy  Cool   Normal     f  yes\n",
              "9      Sunny  Mild   Normal     f  yes\n",
              "10     Rainy  Mild   Normal     t  yes\n",
              "11  Overcast  Mild     High     t  yes\n",
              "12  Overcast   Hot   Normal     f  yes\n",
              "13     Sunny  Mild     High     t   no"
            ]
          },
          "metadata": {
            "tags": []
          },
          "execution_count": 57
        }
      ]
    },
    {
      "cell_type": "code",
      "metadata": {
        "colab": {
          "base_uri": "https://localhost:8080/",
          "height": 0
        },
        "id": "2hFDthzaIx0L",
        "outputId": "a7eacd34-b974-4a17-a84b-7c0c1e0bde8c"
      },
      "source": [
        "P_playyes = 0\r\n",
        "P_playno = 0\r\n",
        "for i in range(14):\r\n",
        "  if dataset['Play'][i]=='yes':\r\n",
        "    P_playyes= P_playyes + 1\r\n",
        "  if dataset['Play'][i]=='no':\r\n",
        "    P_playno = P_playno + 1\r\n",
        "P_playyes = round(P_playyes/14 , 2)\r\n",
        "P_playno = round(P_playno/14 , 2)\r\n",
        "print(P_playyes , P_playno)"
      ],
      "execution_count": 58,
      "outputs": [
        {
          "output_type": "stream",
          "text": [
            "0.64 0.36\n"
          ],
          "name": "stdout"
        }
      ]
    },
    {
      "cell_type": "markdown",
      "metadata": {
        "id": "9geh9lwCQF_l"
      },
      "source": [
        "**Likelihood of Outlook**"
      ]
    },
    {
      "cell_type": "code",
      "metadata": {
        "colab": {
          "base_uri": "https://localhost:8080/",
          "height": 0
        },
        "id": "Jr6g8xhqw6Z_",
        "outputId": "c4f3cc12-c3d7-4533-8da3-8445b57b8543"
      },
      "source": [
        "yr = int()\r\n",
        "yo = int()\r\n",
        "ys = int()\r\n",
        "nr = int()\r\n",
        "no = int()\r\n",
        "ns = int()\r\n",
        "for i in range(14):\r\n",
        "  if dataset['Outlook'][i]=='Rainy' and dataset['Play'][i]=='yes':\r\n",
        "    yr = yr + 1   \r\n",
        "  if dataset['Outlook'][i]=='Overcast' and dataset['Play'][i]=='yes':\r\n",
        "    yo = yo + 1\r\n",
        "  if dataset['Outlook'][i]=='Sunny' and dataset['Play'][i]=='yes':\r\n",
        "    ys = ys + 1\r\n",
        "  if dataset['Outlook'][i]=='Rainy' and dataset['Play'][i]=='no':\r\n",
        "    nr = nr + 1\r\n",
        "  if dataset['Outlook'][i]=='Overcast' and dataset['Play'][i]=='no':\r\n",
        "    no = no + 1\r\n",
        "  if dataset['Outlook'][i]=='Sunny' and dataset['Play'][i]=='no':\r\n",
        "    ns = ns + 1\r\n",
        "\r\n",
        "print('likelihood table for outlook')\r\n",
        "print('          |  Yes | NO  | Total')\r\n",
        "print('Rainy     |' , yr, '   | ' ,nr,' | '  , (yr+nr))\r\n",
        "print('Overcast  |' , yo, '   | ' ,no,' | '  , (yo+no))\r\n",
        "print('Sunny     |' , ys, '   | ' ,ns,' | '  , (ys+ns))\r\n",
        "print('Total     |' ,(yr+yo+ys), '   | ' ,(nr+no+ns),' | '  ,(yr+yo+ys+nr+no+ns))\r\n",
        "\r\n",
        "Rainy = [round(yr/(yr+yo+ys),2) , nr/(nr+no+ns) , round((yr+nr)/(yr+yo+ys+nr+no+ns),2)]\r\n",
        "Overcast = [ round(yo/(yr+yo+ys),2) , no/(nr+no+ns) , round((yo+no)/(yr+yo+ys+nr+no+ns),2)]\r\n",
        "Sunny = [ round(ys/(yr+yo+ys),2) , ns/(nr+no+ns) , round((ys+ns)/(yr+yo+ys+nr+no+ns),2)]\r\n",
        "\r\n",
        "\r\n",
        "print('Likelihood table of Outlook in Probability')\r\n",
        "print('          |  Yes | NO  | Total')\r\n",
        "print('Rainy     |' , Rainy[0], '   | ' ,Rainy[1],' | '  , Rainy[2])\r\n",
        "print('Overcast  |' , Overcast[0], '   | ' ,Overcast[1],' | '  , Overcast[2])\r\n",
        "print('Sunny     |' , Sunny[0], '   | ' ,Sunny[1],' | '  , Sunny[2])\r\n",
        "print('Total     |' ,round((yr+yo+ys)/(yr+yo+ys+nr+no+ns),2), '   | ' ,round((nr+no+ns)/(yr+yo+ys+nr+no+ns),2),' | '  ,1)\r\n"
      ],
      "execution_count": 59,
      "outputs": [
        {
          "output_type": "stream",
          "text": [
            "likelihood table for outlook\n",
            "          |  Yes | NO  | Total\n",
            "Rainy     | 2    |  3  |  5\n",
            "Overcast  | 4    |  0  |  4\n",
            "Sunny     | 3    |  2  |  5\n",
            "Total     | 9    |  5  |  14\n",
            "Likelihood table of Outlook in Probability\n",
            "          |  Yes | NO  | Total\n",
            "Rainy     | 0.22    |  0.6  |  0.36\n",
            "Overcast  | 0.44    |  0.0  |  0.29\n",
            "Sunny     | 0.33    |  0.4  |  0.36\n",
            "Total     | 0.64    |  0.36  |  1\n"
          ],
          "name": "stdout"
        }
      ]
    },
    {
      "cell_type": "markdown",
      "metadata": {
        "id": "Hll2s8TgQhzL"
      },
      "source": [
        "**Likelihood of Temperature**"
      ]
    },
    {
      "cell_type": "code",
      "metadata": {
        "colab": {
          "base_uri": "https://localhost:8080/",
          "height": 0
        },
        "id": "GahAIW5bxT5Y",
        "outputId": "db2fee7b-5e5f-4222-de90-f1259d7cc42f"
      },
      "source": [
        "yh = int()\r\n",
        "ym = int()\r\n",
        "yc = int()\r\n",
        "nh = int()\r\n",
        "nm = int()\r\n",
        "nc = int()\r\n",
        "for i in range(14):\r\n",
        "  if dataset['Temp'][i]=='Hot' and dataset['Play'][i]=='yes':\r\n",
        "    yh = yh + 1\r\n",
        "  if dataset['Temp'][i]=='Mild' and dataset['Play'][i]=='yes':\r\n",
        "    ym = ym + 1\r\n",
        "  if dataset['Temp'][i]=='Cool' and dataset['Play'][i]=='yes':\r\n",
        "    yc = yc + 1\r\n",
        "  if dataset['Temp'][i]=='Hot' and dataset['Play'][i]=='no':\r\n",
        "    nh = nh + 1\r\n",
        "  if dataset['Temp'][i]=='Mild' and dataset['Play'][i]=='no':\r\n",
        "    nm = nm + 1\r\n",
        "  if dataset['Temp'][i]=='Cool' and dataset['Play'][i]=='no':\r\n",
        "    nc = nc + 1\r\n",
        "\r\n",
        "High = [ round(yh/(yh+ym+yc),2) , nh/(nh+nm+nc) , round((yh+nh)/(yh+ym+yc+nh+nm+nc),2)]\r\n",
        "Mild = [ round(ym/(yh+ym+yc),2) , nm/(nh+nm+nc) , round((ym+nm)/(yh+ym+yc+nh+nm+nc),2) ]\r\n",
        "Cool = [ round(yc/(yh+ym+yc),2) , nc/(nh+nm+nc) , round((yc+nc)/(yh+ym+yc+nh+nm+nc),2) ]\r\n",
        "\r\n",
        "print('Likelihood table of Temp in Probability')\r\n",
        "print('          |  Yes | NO  | Total')\r\n",
        "\r\n",
        "print('High      |' ,High[0] , '   | ' ,High[1],' | '  , High[2])\r\n",
        "print('Mild      |' ,Mild[0], '   | ' ,Mild[1],' | '  , Mild[2])\r\n",
        "print('Cold      |' , Cool[0], '   | ' ,Cool[1],' | '  ,Cool[2])\r\n",
        "print('Total     |' ,round((yh+ym+yc)/(yh+ym+yc+nh+nm+nc),2), '   | ' ,round((nh+nm+nc)/(yh+ym+yc+nh+nm+nc),2),'| '  ,1)\r\n"
      ],
      "execution_count": 60,
      "outputs": [
        {
          "output_type": "stream",
          "text": [
            "Likelihood table of Temp in Probability\n",
            "          |  Yes | NO  | Total\n",
            "High      | 0.22    |  0.4  |  0.29\n",
            "Mild      | 0.44    |  0.4  |  0.43\n",
            "Cold      | 0.33    |  0.2  |  0.29\n",
            "Total     | 0.64    |  0.36 |  1\n"
          ],
          "name": "stdout"
        }
      ]
    },
    {
      "cell_type": "markdown",
      "metadata": {
        "id": "J0flt_WhQo_v"
      },
      "source": [
        "**Likelihood of Humidity**"
      ]
    },
    {
      "cell_type": "code",
      "metadata": {
        "id": "7S3dhk-tRBwm"
      },
      "source": [
        ""
      ],
      "execution_count": null,
      "outputs": []
    },
    {
      "cell_type": "code",
      "metadata": {
        "id": "YbFvG2D7_ldX",
        "colab": {
          "base_uri": "https://localhost:8080/",
          "height": 0
        },
        "outputId": "49fcb880-82ab-4615-fea3-b10561a9ade8"
      },
      "source": [
        "yhi= int()\r\n",
        "yn = int()\r\n",
        "nhi = int()\r\n",
        "nn = int()\r\n",
        "for i in range(14):\r\n",
        "  if dataset['Humidity'][i]=='High' and dataset['Play'][i]=='yes':\r\n",
        "    yhi = yhi + 1\r\n",
        "  if dataset['Humidity'][i]=='Normal' and dataset['Play'][i]=='yes':\r\n",
        "    yn = yn + 1\r\n",
        "  if dataset['Humidity'][i]=='High' and dataset['Play'][i]=='no':\r\n",
        "    nhi = nhi + 1\r\n",
        "  if dataset['Humidity'][i]=='Normal' and dataset['Play'][i]=='no':\r\n",
        "    nn = nn + 1\r\n",
        "\r\n",
        "print('Likelihood table of Humidity in Probability')\r\n",
        "print('          |  Yes | NO  |  Total')\r\n",
        "print('High      |' , round(yhi/(yhi+yn),2), '|' ,nhi/(nhi+nn),'|  '  , round((yhi+nhi)/14,2))\r\n",
        "print('Normal    |' , round(yn/(yhi+yn),2), '|' ,nn/(nt+nn),'|'  , round((yn + nn)/14,2))\r\n",
        "print('Total     |' ,round((yhi+yn)/14,2), '|' ,round((nhi+nn)/14,2),'|'  ,1)\r\n",
        "\r\n",
        "#humidity = ['High' , 'Normal']\r\n",
        "High = [ round(yhi/(yhi+yn),2) ,nhi/(nhi+nn), round((yhi+nhi)/14,2) ]\r\n",
        "Normal = [ round(yn/(yhi+yn),2),nn/(nt+nn) , round((yn + nn)/14,2)]\r\n",
        "\r\n",
        "\r\n"
      ],
      "execution_count": 61,
      "outputs": [
        {
          "output_type": "stream",
          "text": [
            "Likelihood table of Humidity in Probability\n",
            "          |  Yes | NO  |  Total\n",
            "High      | 0.33 | 0.8 |   0.5\n",
            "Normal    | 0.67 | 0.25 | 0.5\n",
            "Total     | 0.64 | 0.36 | 1\n"
          ],
          "name": "stdout"
        }
      ]
    },
    {
      "cell_type": "markdown",
      "metadata": {
        "id": "_rRuSnpdQtQo"
      },
      "source": [
        "**Likelihood of Wind**"
      ]
    },
    {
      "cell_type": "code",
      "metadata": {
        "id": "fQNQKGFrE-J-",
        "colab": {
          "base_uri": "https://localhost:8080/",
          "height": 0
        },
        "outputId": "9d207a1b-1730-4319-f12a-802887a6c3f0"
      },
      "source": [
        "yf = int()\r\n",
        "yt = int() \r\n",
        "nf = int()\r\n",
        "nt = int()\r\n",
        " \r\n",
        "for i in range(14):\r\n",
        "  if dataset['Windy'][i]=='f' and dataset['Play'][i]=='yes':\r\n",
        "    yf = yf + 1\r\n",
        "  if dataset['Windy'][i]=='f' and dataset['Play'][i]=='no':\r\n",
        "    nf = nf + 1\r\n",
        "  if dataset['Windy'][i]=='t' and dataset['Play'][i]=='yes':\r\n",
        "    yt = yt + 1 \r\n",
        "  if dataset['Windy'][i]=='t' and dataset['Play'][i]=='no':\r\n",
        "    nt = nt + 1\r\n",
        "\r\n",
        "#Wind = [ 't' , 'f' ]\r\n",
        "t = [round(yt/(yt+yf),2), nt/(nt+nf) , round((yt+nt)/14,2)]\r\n",
        "f = [round(yf/(yt+yf),2) ,nt/(nt+nf), round((yf + nf)/14,2)]\r\n",
        "print('Likelihood table of Wind in Probability')\r\n",
        "print('          |  Yes | NO  | Total')\r\n",
        "print('t         |' , round(yt/(yt+yf),2), '   | ' ,nt/(nt+nf),' | '  , round((yt+nt)/14,2))\r\n",
        "print('f         |' , round(yf/(yt+yf),2), '   | ' ,nt/(nt+nf),' | '  , round((yf + nf)/14,2))\r\n",
        "print('Total     |' ,round((yt+yf)/14,2), '   | ' ,round((nt+nf)/14,2),' | '  ,1)\r\n",
        "\r\n",
        "\r\n"
      ],
      "execution_count": 63,
      "outputs": [
        {
          "output_type": "stream",
          "text": [
            "Likelihood table of Wind in Probability\n",
            "          |  Yes | NO  | Total\n",
            "t         | 0.33    |  0.6  |  0.43\n",
            "f         | 0.67    |  0.6  |  0.57\n",
            "Total     | 0.64    |  0.36  |  1\n"
          ],
          "name": "stdout"
        }
      ]
    },
    {
      "cell_type": "code",
      "metadata": {
        "colab": {
          "base_uri": "https://localhost:8080/",
          "height": 0
        },
        "id": "rEEGNRbXSNvo",
        "outputId": "3da5a436-6b0e-47d5-9867-a77dd1c2237e"
      },
      "source": [
        "\r\n",
        "X = ['Sunny' , 'Cool' , 'High', 't']\r\n",
        "if X[0] == 'Sunny':\r\n",
        "  P_1 = Sunny[0]\r\n",
        "  #print(P_1)\r\n",
        "if X[1] == 'Cool':\r\n",
        "  P_2 = Cool[0]\r\n",
        "  #print(P_2)\r\n",
        "if X[2] == 'High':\r\n",
        "  P_3 = High[0]\r\n",
        "  #print(P_3)\r\n",
        "if X[3] == 't':\r\n",
        "  P_4 = t[0]\r\n",
        "  #print(P_4)\r\n",
        "PXyes = P_1*P_2*P_3*P_4*P_playyes\r\n",
        "\r\n",
        "if X[0] == 'Sunny':\r\n",
        "  P_1 = Sunny[1]\r\n",
        "  #print(P_1)\r\n",
        "if X[1] == 'Cool':\r\n",
        "  P_2 = Cool[1]\r\n",
        "  #print(P_2)\r\n",
        "if X[2] == 'High':\r\n",
        "  P_3 = High[1]\r\n",
        "  #print(P_3)\r\n",
        "if X[3] == 't':\r\n",
        "  P_4 = t[1]\r\n",
        "  #print(P_4)\r\n",
        "\r\n",
        "PXno = P_1*P_2*P_3*P_4*P_playno\r\n",
        "print('P(X|Play = Yes)P(Play = Yes) = ' , PXyes)\r\n",
        "print('P(X|Play = No)P(Play = No) = ' , PXno)\r\n",
        "\r\n",
        "#calculating evidence \r\n",
        "print()\r\n",
        "PX = Sunny[2]*Cool[2]*High[2]*t[2]\r\n",
        "print('Evidence = ' , PX)\r\n",
        "\r\n",
        "print('P(Play = Yes | X ) = ', round(PXyes/PX,2) )\r\n",
        "print('P(Play = No | X ) = ',  round(PXno/PX,2) )\r\n",
        "print()\r\n",
        "if round(PXyes/PX,2) > round(PXno/PX,2):\r\n",
        "  print('Will Play')\r\n",
        "else:\r\n",
        "  print('Will NOT Play') "
      ],
      "execution_count": 68,
      "outputs": [
        {
          "output_type": "stream",
          "text": [
            "P(X|Play = Yes)P(Play = Yes) =  0.007589894400000002\n",
            "P(X|Play = No)P(Play = No) =  0.013824000000000003\n",
            "\n",
            "Evidence =  0.022445999999999997\n",
            "P(Play = Yes | X ) =  0.34\n",
            "P(Play = No | X ) =  0.62\n",
            "\n",
            "Will NOT Play\n"
          ],
          "name": "stdout"
        }
      ]
    },
    {
      "cell_type": "code",
      "metadata": {
        "id": "jGtiYqpEUboj"
      },
      "source": [
        ""
      ],
      "execution_count": null,
      "outputs": []
    }
  ]
}